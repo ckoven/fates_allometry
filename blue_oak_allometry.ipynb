{
 "cells": [
  {
   "cell_type": "code",
   "execution_count": 1,
   "metadata": {},
   "outputs": [],
   "source": [
    "import pandas as pd\n",
    "import numpy as np\n",
    "import math as m"
   ]
  },
  {
   "cell_type": "code",
   "execution_count": 2,
   "metadata": {},
   "outputs": [],
   "source": [
    "def d2h_chave2014(d,p1,p2,p3):\n",
    "    h = np.exp( p1 + p2*np.log(dbh_maxh) + p3*np.log(dbh_maxh)**2.0)\n",
    "    return(h)\n",
    "\n",
    "def d2h_poorter2006(d,p1,p2,p3):\n",
    "    h = p1*(1.0 - np.exp(p2*d**p3))\n",
    "    return(h)\n",
    "\n",
    "def d2h_2pwr(d,p1,p2):\n",
    "    h = p1*d**p2\n",
    "    return(h)\n",
    "    "
   ]
  },
  {
   "cell_type": "code",
   "execution_count": 3,
   "metadata": {},
   "outputs": [],
   "source": [
    "nan = float(\"nan\")"
   ]
  },
  {
   "cell_type": "code",
   "execution_count": 4,
   "metadata": {},
   "outputs": [],
   "source": [
    "k_mck_data = pd.DataFrame(data=\n",
    "                          {'index': [1,2,3,4,5,6,7,8,9,10,11,12,13,14],\n",
    "                           'trunk_circumf': [202,77,45, 57, 75, 37, 57, 60, 132, 38, 59, 42, 68, 53],\n",
    "                           'dbh': [64, 25, 14, 18, 24, 12, 18, 19, 42, 12, 19, 13, 22, 17],\n",
    "                           'height': [7.4, 6.7, 4.7, 7.8, 7.5, 5.9, 7.2, 6.7, 9.9, 4.2, 6.8, 6.3, 7.5, 4.4],\n",
    "                           'crown_radius': [1.1,2, 1.1, 1.4, 1.8, 1.2, 1.1, 1.5, 3.6, 1.1, 1.5, 1.2, 1.8, 2.1],\n",
    "                           'leaf_mass': [3750, 975, 2210, 5230, 6790, 1950, 4420, 5380, 29300, 1830, 5230, 2200, 9040, 5930],\n",
    "                           'leaf_area': [21.5, 58.8, 13.3, 31.5, 40.9, 11.8, 26.6, 32.4, 177, 11.1, 31.5, 13.3, 54.5, 35.70],\n",
    "                           'LAI': [5.9, 4.7, 3.7, 5.5, 3.9, 2.5, 7.7, 4.8, 4.5, 2.8, 4.3, 2.9, 5.7, 2.6],\n",
    "                           'sapwood_rings': [nan, 112, 89, 97, 130, 70, 113, 103, 172, 86, 76, 72, 95, 86],\n",
    "                           'crown_depth': [4.4, 4.1, 3.2, 6.3, 4.5, 4.5, 5.6, 5.0, 7.5, 2.8, 4.5, 4.6, 5.5, 2.],\n",
    "                           'crown_proj': [3.6, 13, 3.6, 5.7, 10, 4.7, 3.5, 6.8, 40, 4.0, 7.3, 4.5,9.6, 14]\n",
    "                          })"
   ]
  },
  {
   "cell_type": "code",
   "execution_count": 5,
   "metadata": {},
   "outputs": [],
   "source": [
    "k_mck_data = k_mck_data.drop(index=0)  ## one of these trees is very weird."
   ]
  },
  {
   "cell_type": "code",
   "execution_count": 6,
   "metadata": {},
   "outputs": [
    {
     "data": {
      "text/plain": [
       "<matplotlib.axes._subplots.AxesSubplot at 0x120e799d0>"
      ]
     },
     "execution_count": 6,
     "metadata": {},
     "output_type": "execute_result"
    },
    {
     "data": {
      "image/png": "[encoded data removed]",
      "text/plain": [
       "<Figure size 432x288 with 1 Axes>"
      ]
     },
     "metadata": {
      "needs_background": "light"
     },
     "output_type": "display_data"
    }
   ],
   "source": [
    "k_mck_data.plot.scatter(x=\"dbh\", y=\"height\")"
   ]
  },
  {
   "cell_type": "code",
   "execution_count": 7,
   "metadata": {},
   "outputs": [
    {
     "data": {
      "text/plain": [
       "<matplotlib.axes._subplots.AxesSubplot at 0x12157c950>"
      ]
     },
     "execution_count": 7,
     "metadata": {},
     "output_type": "execute_result"
    },
    {
     "data": {
      "image/png": "[encoded data removed]",
      "text/plain": [
       "<Figure size 432x288 with 1 Axes>"
      ]
     },
     "metadata": {
      "needs_background": "light"
     },
     "output_type": "display_data"
    }
   ],
   "source": [
    "k_mck_data.plot.scatter(x=\"height\", y=\"crown_depth\")"
   ]
  },
  {
   "cell_type": "code",
   "execution_count": 8,
   "metadata": {},
   "outputs": [
    {
     "data": {
      "text/plain": [
       "<matplotlib.axes._subplots.AxesSubplot at 0x121624510>"
      ]
     },
     "execution_count": 8,
     "metadata": {},
     "output_type": "execute_result"
    },
    {
     "data": {
      "image/png": "[encoded data removed]",
      "text/plain": [
       "<Figure size 432x288 with 1 Axes>"
      ]
     },
     "metadata": {
      "needs_background": "light"
     },
     "output_type": "display_data"
    }
   ],
   "source": [
    "k_mck_data.plot.scatter(x=\"dbh\", y=\"leaf_mass\")"
   ]
  },
  {
   "cell_type": "code",
   "execution_count": 9,
   "metadata": {},
   "outputs": [
    {
     "data": {
      "text/plain": [
       "<matplotlib.axes._subplots.AxesSubplot at 0x1217270d0>"
      ]
     },
     "execution_count": 9,
     "metadata": {},
     "output_type": "execute_result"
    },
    {
     "data": {
      "image/png": "[encoded data removed]",
      "text/plain": [
       "<Figure size 432x288 with 1 Axes>"
      ]
     },
     "metadata": {
      "needs_background": "light"
     },
     "output_type": "display_data"
    }
   ],
   "source": [
    "k_mck_data.plot.scatter(x=\"dbh\", y=\"crown_proj\")"
   ]
  }
 ],
 "metadata": {
  "kernelspec": {
   "display_name": "Python 3",
   "language": "python",
   "name": "python3"
  },
  "language_info": {
   "codemirror_mode": {
    "name": "ipython",
    "version": 3
   },
   "file_extension": ".py",
   "mimetype": "text/x-python",
   "name": "python",
   "nbconvert_exporter": "python",
   "pygments_lexer": "ipython3",
   "version": "3.7.7"
  }
 },
 "nbformat": 4,
 "nbformat_minor": 4
}
